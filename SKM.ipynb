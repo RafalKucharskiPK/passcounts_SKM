{
 "cells": [
  {
   "cell_type": "markdown",
   "metadata": {},
   "source": [
    "Dostęp:\n",
    "\n",
    "http://skm.srv.pl\n",
    "\n",
    "login: raport_ogolny\n",
    "\n",
    "hasło: hasło proszę o mail na rkucharski@edu.pl\n",
    "\n",
    "## 1. Import libraries"
   ]
  },
  {
   "cell_type": "code",
   "execution_count": 78,
   "metadata": {},
   "outputs": [],
   "source": [
    "import pandas as pd # biblioteka do analiz danych\n",
    "import matplotlib\n",
    "%matplotlib inline"
   ]
  },
  {
   "cell_type": "markdown",
   "metadata": {},
   "source": [
    "## 2. Read data"
   ]
  },
  {
   "cell_type": "code",
   "execution_count": 79,
   "metadata": {},
   "outputs": [],
   "source": [
    "df = pd.read_csv('data.csv', encoding = \"cp1250\", sep = \";\", index_col=0) \n",
    "# odczytaj plik csv o okreslonym kodowaniu znakow i znaku oddzielajacym kolumny\n",
    "del df['Unnamed: 12']"
   ]
  },
  {
   "cell_type": "code",
   "execution_count": 80,
   "metadata": {},
   "outputs": [
    {
     "data": {
      "text/html": [
       "<div>\n",
       "<style scoped>\n",
       "    .dataframe tbody tr th:only-of-type {\n",
       "        vertical-align: middle;\n",
       "    }\n",
       "\n",
       "    .dataframe tbody tr th {\n",
       "        vertical-align: top;\n",
       "    }\n",
       "\n",
       "    .dataframe thead th {\n",
       "        text-align: right;\n",
       "    }\n",
       "</style>\n",
       "<table border=\"1\" class=\"dataframe\">\n",
       "  <thead>\n",
       "    <tr style=\"text-align: right;\">\n",
       "      <th></th>\n",
       "      <th>EZT</th>\n",
       "      <th>Półkurs</th>\n",
       "      <th>Numer taborowy</th>\n",
       "      <th>Linia</th>\n",
       "      <th>Data startu półkursu</th>\n",
       "      <th>Nazwa przystanku</th>\n",
       "      <th>Weszło</th>\n",
       "      <th>Wyszło</th>\n",
       "      <th>Stan pasażerów</th>\n",
       "      <th>Data zdarzenia</th>\n",
       "      <th>Nr przystanku</th>\n",
       "    </tr>\n",
       "    <tr>\n",
       "      <th>L.P.</th>\n",
       "      <th></th>\n",
       "      <th></th>\n",
       "      <th></th>\n",
       "      <th></th>\n",
       "      <th></th>\n",
       "      <th></th>\n",
       "      <th></th>\n",
       "      <th></th>\n",
       "      <th></th>\n",
       "      <th></th>\n",
       "      <th></th>\n",
       "    </tr>\n",
       "  </thead>\n",
       "  <tbody>\n",
       "    <tr>\n",
       "      <th>1</th>\n",
       "      <td>19WE-01</td>\n",
       "      <td>ZACH - OTWOCK</td>\n",
       "      <td>301</td>\n",
       "      <td>S1</td>\n",
       "      <td>2019-03-12 04:01:54</td>\n",
       "      <td>WARSZAWA ZACHODNIA</td>\n",
       "      <td>1</td>\n",
       "      <td>0 (0)</td>\n",
       "      <td>1</td>\n",
       "      <td>2019-03-12 04:01:54</td>\n",
       "      <td>1</td>\n",
       "    </tr>\n",
       "    <tr>\n",
       "      <th>2</th>\n",
       "      <td>19WE-01</td>\n",
       "      <td>ZACH - OTWOCK</td>\n",
       "      <td>301</td>\n",
       "      <td>S1</td>\n",
       "      <td>2019-03-12 04:01:54</td>\n",
       "      <td>WARSZAWA OCHOTA</td>\n",
       "      <td>0</td>\n",
       "      <td>0</td>\n",
       "      <td>1</td>\n",
       "      <td>2019-03-12 04:06:10</td>\n",
       "      <td>2</td>\n",
       "    </tr>\n",
       "    <tr>\n",
       "      <th>3</th>\n",
       "      <td>19WE-01</td>\n",
       "      <td>ZACH - OTWOCK</td>\n",
       "      <td>301</td>\n",
       "      <td>S1</td>\n",
       "      <td>2019-03-12 04:01:54</td>\n",
       "      <td>WARSZAWA ŚRÓDMIEŚCIE</td>\n",
       "      <td>2</td>\n",
       "      <td>4</td>\n",
       "      <td>-1</td>\n",
       "      <td>2019-03-12 04:09:27</td>\n",
       "      <td>3</td>\n",
       "    </tr>\n",
       "    <tr>\n",
       "      <th>4</th>\n",
       "      <td>19WE-01</td>\n",
       "      <td>ZACH - OTWOCK</td>\n",
       "      <td>301</td>\n",
       "      <td>S1</td>\n",
       "      <td>2019-03-12 04:01:54</td>\n",
       "      <td>WARSZAWA POWIŚLE</td>\n",
       "      <td>2</td>\n",
       "      <td>0</td>\n",
       "      <td>1</td>\n",
       "      <td>2019-03-12 04:12:24</td>\n",
       "      <td>4</td>\n",
       "    </tr>\n",
       "    <tr>\n",
       "      <th>5</th>\n",
       "      <td>19WE-01</td>\n",
       "      <td>ZACH - OTWOCK</td>\n",
       "      <td>301</td>\n",
       "      <td>S1</td>\n",
       "      <td>2019-03-12 04:01:54</td>\n",
       "      <td>WARSZAWA STADION</td>\n",
       "      <td>1</td>\n",
       "      <td>1</td>\n",
       "      <td>1</td>\n",
       "      <td>2019-03-12 04:15:29</td>\n",
       "      <td>5</td>\n",
       "    </tr>\n",
       "  </tbody>\n",
       "</table>\n",
       "</div>"
      ],
      "text/plain": [
       "          EZT        Półkurs  Numer taborowy Linia Data startu półkursu  \\\n",
       "L.P.                                                                      \n",
       "1     19WE-01  ZACH - OTWOCK             301    S1  2019-03-12 04:01:54   \n",
       "2     19WE-01  ZACH - OTWOCK             301    S1  2019-03-12 04:01:54   \n",
       "3     19WE-01  ZACH - OTWOCK             301    S1  2019-03-12 04:01:54   \n",
       "4     19WE-01  ZACH - OTWOCK             301    S1  2019-03-12 04:01:54   \n",
       "5     19WE-01  ZACH - OTWOCK             301    S1  2019-03-12 04:01:54   \n",
       "\n",
       "          Nazwa przystanku Weszło Wyszło  Stan pasażerów       Data zdarzenia  \\\n",
       "L.P.                                                                            \n",
       "1       WARSZAWA ZACHODNIA      1  0 (0)               1  2019-03-12 04:01:54   \n",
       "2          WARSZAWA OCHOTA      0      0               1  2019-03-12 04:06:10   \n",
       "3     WARSZAWA ŚRÓDMIEŚCIE      2      4              -1  2019-03-12 04:09:27   \n",
       "4         WARSZAWA POWIŚLE      2      0               1  2019-03-12 04:12:24   \n",
       "5         WARSZAWA STADION      1      1               1  2019-03-12 04:15:29   \n",
       "\n",
       "      Nr przystanku  \n",
       "L.P.                 \n",
       "1                 1  \n",
       "2                 2  \n",
       "3                 3  \n",
       "4                 4  \n",
       "5                 5  "
      ]
     },
     "execution_count": 80,
     "metadata": {},
     "output_type": "execute_result"
    }
   ],
   "source": [
    "df.head()"
   ]
  },
  {
   "cell_type": "code",
   "execution_count": 81,
   "metadata": {},
   "outputs": [
    {
     "data": {
      "text/plain": [
       "(14569, 11)"
      ]
     },
     "execution_count": 81,
     "metadata": {},
     "output_type": "execute_result"
    }
   ],
   "source": [
    "df.shape"
   ]
  },
  {
   "cell_type": "code",
   "execution_count": 82,
   "metadata": {},
   "outputs": [
    {
     "data": {
      "text/plain": [
       "Index(['EZT', 'Półkurs', 'Numer taborowy', 'Linia', 'Data startu półkursu',\n",
       "       'Nazwa przystanku', 'Weszło', 'Wyszło', 'Stan pasażerów',\n",
       "       'Data zdarzenia', 'Nr przystanku'],\n",
       "      dtype='object')"
      ]
     },
     "execution_count": 82,
     "metadata": {},
     "output_type": "execute_result"
    }
   ],
   "source": [
    "df.columns"
   ]
  },
  {
   "cell_type": "code",
   "execution_count": 83,
   "metadata": {},
   "outputs": [],
   "source": [
    "df['Data zdarzenia'] = pd.to_datetime(df['Data zdarzenia'])\n",
    "df['Data startu półkursu'] = pd.to_datetime(df['Data startu półkursu'])\n",
    "df['Stan pasażerów']=df['Stan pasażerów'].astype(int)"
   ]
  },
  {
   "cell_type": "code",
   "execution_count": 84,
   "metadata": {},
   "outputs": [],
   "source": [
    "df['Weszło']=df['Weszło'].apply(lambda x: int(x.split()[0]))\n",
    "df['Wyszło']=df['Wyszło'].apply(lambda x: int(x.split()[0]))\n",
    "df['Weszło']=df['Weszło'].astype(int)\n",
    "df['Wyszło']=df['Wyszło'].astype(int)"
   ]
  },
  {
   "cell_type": "code",
   "execution_count": 85,
   "metadata": {},
   "outputs": [
    {
     "data": {
      "text/html": [
       "<div>\n",
       "<style scoped>\n",
       "    .dataframe tbody tr th:only-of-type {\n",
       "        vertical-align: middle;\n",
       "    }\n",
       "\n",
       "    .dataframe tbody tr th {\n",
       "        vertical-align: top;\n",
       "    }\n",
       "\n",
       "    .dataframe thead th {\n",
       "        text-align: right;\n",
       "    }\n",
       "</style>\n",
       "<table border=\"1\" class=\"dataframe\">\n",
       "  <thead>\n",
       "    <tr style=\"text-align: right;\">\n",
       "      <th></th>\n",
       "      <th>EZT</th>\n",
       "      <th>Półkurs</th>\n",
       "      <th>Numer taborowy</th>\n",
       "      <th>Linia</th>\n",
       "      <th>Data startu półkursu</th>\n",
       "      <th>Nazwa przystanku</th>\n",
       "      <th>Weszło</th>\n",
       "      <th>Wyszło</th>\n",
       "      <th>Stan pasażerów</th>\n",
       "      <th>Data zdarzenia</th>\n",
       "      <th>Nr przystanku</th>\n",
       "    </tr>\n",
       "    <tr>\n",
       "      <th>L.P.</th>\n",
       "      <th></th>\n",
       "      <th></th>\n",
       "      <th></th>\n",
       "      <th></th>\n",
       "      <th></th>\n",
       "      <th></th>\n",
       "      <th></th>\n",
       "      <th></th>\n",
       "      <th></th>\n",
       "      <th></th>\n",
       "      <th></th>\n",
       "    </tr>\n",
       "  </thead>\n",
       "  <tbody>\n",
       "    <tr>\n",
       "      <th>1</th>\n",
       "      <td>19WE-01</td>\n",
       "      <td>ZACH - OTWOCK</td>\n",
       "      <td>301</td>\n",
       "      <td>S1</td>\n",
       "      <td>2019-03-12 04:01:54</td>\n",
       "      <td>WARSZAWA ZACHODNIA</td>\n",
       "      <td>1</td>\n",
       "      <td>0</td>\n",
       "      <td>1</td>\n",
       "      <td>2019-03-12 04:01:54</td>\n",
       "      <td>1</td>\n",
       "    </tr>\n",
       "    <tr>\n",
       "      <th>2</th>\n",
       "      <td>19WE-01</td>\n",
       "      <td>ZACH - OTWOCK</td>\n",
       "      <td>301</td>\n",
       "      <td>S1</td>\n",
       "      <td>2019-03-12 04:01:54</td>\n",
       "      <td>WARSZAWA OCHOTA</td>\n",
       "      <td>0</td>\n",
       "      <td>0</td>\n",
       "      <td>1</td>\n",
       "      <td>2019-03-12 04:06:10</td>\n",
       "      <td>2</td>\n",
       "    </tr>\n",
       "    <tr>\n",
       "      <th>3</th>\n",
       "      <td>19WE-01</td>\n",
       "      <td>ZACH - OTWOCK</td>\n",
       "      <td>301</td>\n",
       "      <td>S1</td>\n",
       "      <td>2019-03-12 04:01:54</td>\n",
       "      <td>WARSZAWA ŚRÓDMIEŚCIE</td>\n",
       "      <td>2</td>\n",
       "      <td>4</td>\n",
       "      <td>-1</td>\n",
       "      <td>2019-03-12 04:09:27</td>\n",
       "      <td>3</td>\n",
       "    </tr>\n",
       "    <tr>\n",
       "      <th>4</th>\n",
       "      <td>19WE-01</td>\n",
       "      <td>ZACH - OTWOCK</td>\n",
       "      <td>301</td>\n",
       "      <td>S1</td>\n",
       "      <td>2019-03-12 04:01:54</td>\n",
       "      <td>WARSZAWA POWIŚLE</td>\n",
       "      <td>2</td>\n",
       "      <td>0</td>\n",
       "      <td>1</td>\n",
       "      <td>2019-03-12 04:12:24</td>\n",
       "      <td>4</td>\n",
       "    </tr>\n",
       "    <tr>\n",
       "      <th>5</th>\n",
       "      <td>19WE-01</td>\n",
       "      <td>ZACH - OTWOCK</td>\n",
       "      <td>301</td>\n",
       "      <td>S1</td>\n",
       "      <td>2019-03-12 04:01:54</td>\n",
       "      <td>WARSZAWA STADION</td>\n",
       "      <td>1</td>\n",
       "      <td>1</td>\n",
       "      <td>1</td>\n",
       "      <td>2019-03-12 04:15:29</td>\n",
       "      <td>5</td>\n",
       "    </tr>\n",
       "  </tbody>\n",
       "</table>\n",
       "</div>"
      ],
      "text/plain": [
       "          EZT        Półkurs  Numer taborowy Linia Data startu półkursu  \\\n",
       "L.P.                                                                      \n",
       "1     19WE-01  ZACH - OTWOCK             301    S1  2019-03-12 04:01:54   \n",
       "2     19WE-01  ZACH - OTWOCK             301    S1  2019-03-12 04:01:54   \n",
       "3     19WE-01  ZACH - OTWOCK             301    S1  2019-03-12 04:01:54   \n",
       "4     19WE-01  ZACH - OTWOCK             301    S1  2019-03-12 04:01:54   \n",
       "5     19WE-01  ZACH - OTWOCK             301    S1  2019-03-12 04:01:54   \n",
       "\n",
       "          Nazwa przystanku  Weszło  Wyszło  Stan pasażerów  \\\n",
       "L.P.                                                         \n",
       "1       WARSZAWA ZACHODNIA       1       0               1   \n",
       "2          WARSZAWA OCHOTA       0       0               1   \n",
       "3     WARSZAWA ŚRÓDMIEŚCIE       2       4              -1   \n",
       "4         WARSZAWA POWIŚLE       2       0               1   \n",
       "5         WARSZAWA STADION       1       1               1   \n",
       "\n",
       "          Data zdarzenia  Nr przystanku  \n",
       "L.P.                                     \n",
       "1    2019-03-12 04:01:54              1  \n",
       "2    2019-03-12 04:06:10              2  \n",
       "3    2019-03-12 04:09:27              3  \n",
       "4    2019-03-12 04:12:24              4  \n",
       "5    2019-03-12 04:15:29              5  "
      ]
     },
     "execution_count": 85,
     "metadata": {},
     "output_type": "execute_result"
    }
   ],
   "source": [
    "df.head()"
   ]
  },
  {
   "cell_type": "markdown",
   "metadata": {},
   "source": [
    "# 3. EDA (wizualizacja i analiza)"
   ]
  },
  {
   "cell_type": "code",
   "execution_count": 60,
   "metadata": {},
   "outputs": [
    {
     "data": {
      "text/html": [
       "<div>\n",
       "<style scoped>\n",
       "    .dataframe tbody tr th:only-of-type {\n",
       "        vertical-align: middle;\n",
       "    }\n",
       "\n",
       "    .dataframe tbody tr th {\n",
       "        vertical-align: top;\n",
       "    }\n",
       "\n",
       "    .dataframe thead th {\n",
       "        text-align: right;\n",
       "    }\n",
       "</style>\n",
       "<table border=\"1\" class=\"dataframe\">\n",
       "  <thead>\n",
       "    <tr style=\"text-align: right;\">\n",
       "      <th></th>\n",
       "      <th>Numer taborowy</th>\n",
       "      <th>Weszło</th>\n",
       "      <th>Wyszło</th>\n",
       "      <th>Stan pasażerów</th>\n",
       "      <th>Nr przystanku</th>\n",
       "    </tr>\n",
       "  </thead>\n",
       "  <tbody>\n",
       "    <tr>\n",
       "      <th>count</th>\n",
       "      <td>14569.000000</td>\n",
       "      <td>14569.000000</td>\n",
       "      <td>14569.000000</td>\n",
       "      <td>14569.000000</td>\n",
       "      <td>14569.000000</td>\n",
       "    </tr>\n",
       "    <tr>\n",
       "      <th>mean</th>\n",
       "      <td>449.553435</td>\n",
       "      <td>17.380671</td>\n",
       "      <td>16.729975</td>\n",
       "      <td>105.693253</td>\n",
       "      <td>10.108106</td>\n",
       "    </tr>\n",
       "    <tr>\n",
       "      <th>std</th>\n",
       "      <td>68.108319</td>\n",
       "      <td>35.362507</td>\n",
       "      <td>30.030035</td>\n",
       "      <td>128.903071</td>\n",
       "      <td>6.108937</td>\n",
       "    </tr>\n",
       "    <tr>\n",
       "      <th>min</th>\n",
       "      <td>301.000000</td>\n",
       "      <td>0.000000</td>\n",
       "      <td>0.000000</td>\n",
       "      <td>-652.000000</td>\n",
       "      <td>1.000000</td>\n",
       "    </tr>\n",
       "    <tr>\n",
       "      <th>25%</th>\n",
       "      <td>404.000000</td>\n",
       "      <td>2.000000</td>\n",
       "      <td>2.000000</td>\n",
       "      <td>25.000000</td>\n",
       "      <td>5.000000</td>\n",
       "    </tr>\n",
       "    <tr>\n",
       "      <th>50%</th>\n",
       "      <td>502.000000</td>\n",
       "      <td>7.000000</td>\n",
       "      <td>7.000000</td>\n",
       "      <td>66.000000</td>\n",
       "      <td>10.000000</td>\n",
       "    </tr>\n",
       "    <tr>\n",
       "      <th>75%</th>\n",
       "      <td>505.000000</td>\n",
       "      <td>19.000000</td>\n",
       "      <td>18.000000</td>\n",
       "      <td>138.000000</td>\n",
       "      <td>15.000000</td>\n",
       "    </tr>\n",
       "    <tr>\n",
       "      <th>max</th>\n",
       "      <td>509.000000</td>\n",
       "      <td>2056.000000</td>\n",
       "      <td>662.000000</td>\n",
       "      <td>2037.000000</td>\n",
       "      <td>23.000000</td>\n",
       "    </tr>\n",
       "  </tbody>\n",
       "</table>\n",
       "</div>"
      ],
      "text/plain": [
       "       Numer taborowy        Weszło        Wyszło  Stan pasażerów  \\\n",
       "count    14569.000000  14569.000000  14569.000000    14569.000000   \n",
       "mean       449.553435     17.380671     16.729975      105.693253   \n",
       "std         68.108319     35.362507     30.030035      128.903071   \n",
       "min        301.000000      0.000000      0.000000     -652.000000   \n",
       "25%        404.000000      2.000000      2.000000       25.000000   \n",
       "50%        502.000000      7.000000      7.000000       66.000000   \n",
       "75%        505.000000     19.000000     18.000000      138.000000   \n",
       "max        509.000000   2056.000000    662.000000     2037.000000   \n",
       "\n",
       "       Nr przystanku  \n",
       "count   14569.000000  \n",
       "mean       10.108106  \n",
       "std         6.108937  \n",
       "min         1.000000  \n",
       "25%         5.000000  \n",
       "50%        10.000000  \n",
       "75%        15.000000  \n",
       "max        23.000000  "
      ]
     },
     "execution_count": 60,
     "metadata": {},
     "output_type": "execute_result"
    }
   ],
   "source": [
    "df.describe()"
   ]
  },
  {
   "cell_type": "code",
   "execution_count": 62,
   "metadata": {},
   "outputs": [
    {
     "data": {
      "text/html": [
       "<div>\n",
       "<style scoped>\n",
       "    .dataframe tbody tr th:only-of-type {\n",
       "        vertical-align: middle;\n",
       "    }\n",
       "\n",
       "    .dataframe tbody tr th {\n",
       "        vertical-align: top;\n",
       "    }\n",
       "\n",
       "    .dataframe thead th {\n",
       "        text-align: right;\n",
       "    }\n",
       "</style>\n",
       "<table border=\"1\" class=\"dataframe\">\n",
       "  <thead>\n",
       "    <tr style=\"text-align: right;\">\n",
       "      <th></th>\n",
       "      <th>Linia</th>\n",
       "      <th>S1</th>\n",
       "      <th>S2</th>\n",
       "      <th>S3</th>\n",
       "      <th>S9</th>\n",
       "    </tr>\n",
       "  </thead>\n",
       "  <tbody>\n",
       "    <tr>\n",
       "      <th rowspan=\"8\" valign=\"top\">Weszło</th>\n",
       "      <th>count</th>\n",
       "      <td>8571.000000</td>\n",
       "      <td>2591.000000</td>\n",
       "      <td>2071.000000</td>\n",
       "      <td>1336.000000</td>\n",
       "    </tr>\n",
       "    <tr>\n",
       "      <th>mean</th>\n",
       "      <td>19.426788</td>\n",
       "      <td>15.909301</td>\n",
       "      <td>14.929986</td>\n",
       "      <td>10.906437</td>\n",
       "    </tr>\n",
       "    <tr>\n",
       "      <th>std</th>\n",
       "      <td>39.559070</td>\n",
       "      <td>27.475645</td>\n",
       "      <td>26.529055</td>\n",
       "      <td>31.013146</td>\n",
       "    </tr>\n",
       "    <tr>\n",
       "      <th>min</th>\n",
       "      <td>0.000000</td>\n",
       "      <td>0.000000</td>\n",
       "      <td>0.000000</td>\n",
       "      <td>0.000000</td>\n",
       "    </tr>\n",
       "    <tr>\n",
       "      <th>25%</th>\n",
       "      <td>3.000000</td>\n",
       "      <td>1.000000</td>\n",
       "      <td>2.000000</td>\n",
       "      <td>1.000000</td>\n",
       "    </tr>\n",
       "    <tr>\n",
       "      <th>50%</th>\n",
       "      <td>8.000000</td>\n",
       "      <td>6.000000</td>\n",
       "      <td>5.000000</td>\n",
       "      <td>3.000000</td>\n",
       "    </tr>\n",
       "    <tr>\n",
       "      <th>75%</th>\n",
       "      <td>21.000000</td>\n",
       "      <td>18.000000</td>\n",
       "      <td>16.000000</td>\n",
       "      <td>8.000000</td>\n",
       "    </tr>\n",
       "    <tr>\n",
       "      <th>max</th>\n",
       "      <td>2056.000000</td>\n",
       "      <td>316.000000</td>\n",
       "      <td>251.000000</td>\n",
       "      <td>339.000000</td>\n",
       "    </tr>\n",
       "    <tr>\n",
       "      <th rowspan=\"8\" valign=\"top\">Wyszło</th>\n",
       "      <th>count</th>\n",
       "      <td>8571.000000</td>\n",
       "      <td>2591.000000</td>\n",
       "      <td>2071.000000</td>\n",
       "      <td>1336.000000</td>\n",
       "    </tr>\n",
       "    <tr>\n",
       "      <th>mean</th>\n",
       "      <td>18.426905</td>\n",
       "      <td>15.781552</td>\n",
       "      <td>14.271849</td>\n",
       "      <td>11.493263</td>\n",
       "    </tr>\n",
       "    <tr>\n",
       "      <th>std</th>\n",
       "      <td>31.309046</td>\n",
       "      <td>26.516363</td>\n",
       "      <td>26.103436</td>\n",
       "      <td>32.716647</td>\n",
       "    </tr>\n",
       "    <tr>\n",
       "      <th>min</th>\n",
       "      <td>0.000000</td>\n",
       "      <td>0.000000</td>\n",
       "      <td>0.000000</td>\n",
       "      <td>0.000000</td>\n",
       "    </tr>\n",
       "    <tr>\n",
       "      <th>25%</th>\n",
       "      <td>3.000000</td>\n",
       "      <td>2.000000</td>\n",
       "      <td>1.000000</td>\n",
       "      <td>1.000000</td>\n",
       "    </tr>\n",
       "    <tr>\n",
       "      <th>50%</th>\n",
       "      <td>8.000000</td>\n",
       "      <td>6.000000</td>\n",
       "      <td>5.000000</td>\n",
       "      <td>3.000000</td>\n",
       "    </tr>\n",
       "    <tr>\n",
       "      <th>75%</th>\n",
       "      <td>21.000000</td>\n",
       "      <td>18.000000</td>\n",
       "      <td>15.000000</td>\n",
       "      <td>8.000000</td>\n",
       "    </tr>\n",
       "    <tr>\n",
       "      <th>max</th>\n",
       "      <td>662.000000</td>\n",
       "      <td>265.000000</td>\n",
       "      <td>223.000000</td>\n",
       "      <td>313.000000</td>\n",
       "    </tr>\n",
       "    <tr>\n",
       "      <th rowspan=\"8\" valign=\"top\">Stan pasażerów</th>\n",
       "      <th>count</th>\n",
       "      <td>8571.000000</td>\n",
       "      <td>2591.000000</td>\n",
       "      <td>2071.000000</td>\n",
       "      <td>1336.000000</td>\n",
       "    </tr>\n",
       "    <tr>\n",
       "      <th>mean</th>\n",
       "      <td>127.802240</td>\n",
       "      <td>73.951756</td>\n",
       "      <td>83.265089</td>\n",
       "      <td>60.180389</td>\n",
       "    </tr>\n",
       "    <tr>\n",
       "      <th>std</th>\n",
       "      <td>141.938406</td>\n",
       "      <td>98.135559</td>\n",
       "      <td>101.071514</td>\n",
       "      <td>97.565388</td>\n",
       "    </tr>\n",
       "    <tr>\n",
       "      <th>min</th>\n",
       "      <td>-652.000000</td>\n",
       "      <td>-142.000000</td>\n",
       "      <td>-301.000000</td>\n",
       "      <td>-130.000000</td>\n",
       "    </tr>\n",
       "    <tr>\n",
       "      <th>25%</th>\n",
       "      <td>41.000000</td>\n",
       "      <td>16.000000</td>\n",
       "      <td>21.000000</td>\n",
       "      <td>6.000000</td>\n",
       "    </tr>\n",
       "    <tr>\n",
       "      <th>50%</th>\n",
       "      <td>91.000000</td>\n",
       "      <td>41.000000</td>\n",
       "      <td>50.000000</td>\n",
       "      <td>22.000000</td>\n",
       "    </tr>\n",
       "    <tr>\n",
       "      <th>75%</th>\n",
       "      <td>163.000000</td>\n",
       "      <td>89.000000</td>\n",
       "      <td>91.000000</td>\n",
       "      <td>61.250000</td>\n",
       "    </tr>\n",
       "    <tr>\n",
       "      <th>max</th>\n",
       "      <td>2037.000000</td>\n",
       "      <td>703.000000</td>\n",
       "      <td>557.000000</td>\n",
       "      <td>478.000000</td>\n",
       "    </tr>\n",
       "  </tbody>\n",
       "</table>\n",
       "</div>"
      ],
      "text/plain": [
       "Linia                          S1           S2           S3           S9\n",
       "Weszło         count  8571.000000  2591.000000  2071.000000  1336.000000\n",
       "               mean     19.426788    15.909301    14.929986    10.906437\n",
       "               std      39.559070    27.475645    26.529055    31.013146\n",
       "               min       0.000000     0.000000     0.000000     0.000000\n",
       "               25%       3.000000     1.000000     2.000000     1.000000\n",
       "               50%       8.000000     6.000000     5.000000     3.000000\n",
       "               75%      21.000000    18.000000    16.000000     8.000000\n",
       "               max    2056.000000   316.000000   251.000000   339.000000\n",
       "Wyszło         count  8571.000000  2591.000000  2071.000000  1336.000000\n",
       "               mean     18.426905    15.781552    14.271849    11.493263\n",
       "               std      31.309046    26.516363    26.103436    32.716647\n",
       "               min       0.000000     0.000000     0.000000     0.000000\n",
       "               25%       3.000000     2.000000     1.000000     1.000000\n",
       "               50%       8.000000     6.000000     5.000000     3.000000\n",
       "               75%      21.000000    18.000000    15.000000     8.000000\n",
       "               max     662.000000   265.000000   223.000000   313.000000\n",
       "Stan pasażerów count  8571.000000  2591.000000  2071.000000  1336.000000\n",
       "               mean    127.802240    73.951756    83.265089    60.180389\n",
       "               std     141.938406    98.135559   101.071514    97.565388\n",
       "               min    -652.000000  -142.000000  -301.000000  -130.000000\n",
       "               25%      41.000000    16.000000    21.000000     6.000000\n",
       "               50%      91.000000    41.000000    50.000000    22.000000\n",
       "               75%     163.000000    89.000000    91.000000    61.250000\n",
       "               max    2037.000000   703.000000   557.000000   478.000000"
      ]
     },
     "execution_count": 62,
     "metadata": {},
     "output_type": "execute_result"
    }
   ],
   "source": [
    "df.groupby('Linia')[['Weszło','Wyszło','Stan pasażerów']].describe().T"
   ]
  },
  {
   "cell_type": "code",
   "execution_count": 63,
   "metadata": {},
   "outputs": [
    {
     "data": {
      "text/html": [
       "<div>\n",
       "<style scoped>\n",
       "    .dataframe tbody tr th:only-of-type {\n",
       "        vertical-align: middle;\n",
       "    }\n",
       "\n",
       "    .dataframe tbody tr th {\n",
       "        vertical-align: top;\n",
       "    }\n",
       "\n",
       "    .dataframe thead th {\n",
       "        text-align: right;\n",
       "    }\n",
       "</style>\n",
       "<table border=\"1\" class=\"dataframe\">\n",
       "  <thead>\n",
       "    <tr style=\"text-align: right;\">\n",
       "      <th></th>\n",
       "      <th>Weszło</th>\n",
       "      <th>Wyszło</th>\n",
       "    </tr>\n",
       "    <tr>\n",
       "      <th>Linia</th>\n",
       "      <th></th>\n",
       "      <th></th>\n",
       "    </tr>\n",
       "  </thead>\n",
       "  <tbody>\n",
       "    <tr>\n",
       "      <th>S1</th>\n",
       "      <td>166507</td>\n",
       "      <td>157937</td>\n",
       "    </tr>\n",
       "    <tr>\n",
       "      <th>S2</th>\n",
       "      <td>41221</td>\n",
       "      <td>40890</td>\n",
       "    </tr>\n",
       "    <tr>\n",
       "      <th>S3</th>\n",
       "      <td>30920</td>\n",
       "      <td>29557</td>\n",
       "    </tr>\n",
       "    <tr>\n",
       "      <th>S9</th>\n",
       "      <td>14571</td>\n",
       "      <td>15355</td>\n",
       "    </tr>\n",
       "  </tbody>\n",
       "</table>\n",
       "</div>"
      ],
      "text/plain": [
       "       Weszło  Wyszło\n",
       "Linia                \n",
       "S1     166507  157937\n",
       "S2      41221   40890\n",
       "S3      30920   29557\n",
       "S9      14571   15355"
      ]
     },
     "execution_count": 63,
     "metadata": {},
     "output_type": "execute_result"
    }
   ],
   "source": [
    "df.groupby('Linia')[['Weszło','Wyszło']].sum()"
   ]
  },
  {
   "cell_type": "code",
   "execution_count": 64,
   "metadata": {},
   "outputs": [
    {
     "data": {
      "text/plain": [
       "Linia\n",
       "S1    AxesSubplot(0.125,0.125;0.775x0.755)\n",
       "S2    AxesSubplot(0.125,0.125;0.775x0.755)\n",
       "S3    AxesSubplot(0.125,0.125;0.775x0.755)\n",
       "S9    AxesSubplot(0.125,0.125;0.775x0.755)\n",
       "Name: Stan pasażerów, dtype: object"
      ]
     },
     "execution_count": 64,
     "metadata": {},
     "output_type": "execute_result"
    },
    {
     "data": {
      "image/png": "[encoded data removed]",
      "text/plain": [
       "<Figure size 432x288 with 1 Axes>"
      ]
     },
     "metadata": {
      "needs_background": "light"
     },
     "output_type": "display_data"
    }
   ],
   "source": [
    "df.groupby('Linia')['Stan pasażerów'].hist(density=True)"
   ]
  },
  {
   "cell_type": "code",
   "execution_count": 100,
   "metadata": {},
   "outputs": [
    {
     "data": {
      "text/plain": [
       "<matplotlib.axes._subplots.AxesSubplot at 0x239f38b60b8>"
      ]
     },
     "execution_count": 100,
     "metadata": {},
     "output_type": "execute_result"
    },
    {
     "data": {
      "image/png": "[encoded data removed]",
      "text/plain": [
       "<Figure size 432x288 with 1 Axes>"
      ]
     },
     "metadata": {
      "needs_background": "light"
     },
     "output_type": "display_data"
    }
   ],
   "source": [
    "df.groupby(df['Data startu półkursu'].dt.date)['Weszło'].sum().plot()"
   ]
  },
  {
   "cell_type": "code",
   "execution_count": 99,
   "metadata": {},
   "outputs": [
    {
     "data": {
      "text/plain": [
       "<matplotlib.axes._subplots.AxesSubplot at 0x239f48d2cc0>"
      ]
     },
     "execution_count": 99,
     "metadata": {},
     "output_type": "execute_result"
    },
    {
     "data": {
      "image/png": "[encoded data removed]",
      "text/plain": [
       "<Figure size 432x288 with 1 Axes>"
      ]
     },
     "metadata": {
      "needs_background": "light"
     },
     "output_type": "display_data"
    }
   ],
   "source": [
    "df.groupby(df['Data startu półkursu'].dt.hour)['Weszło'].sum().plot()"
   ]
  },
  {
   "cell_type": "code",
   "execution_count": 103,
   "metadata": {},
   "outputs": [
    {
     "data": {
      "text/plain": [
       "<matplotlib.axes._subplots.AxesSubplot at 0x239f4d07f98>"
      ]
     },
     "execution_count": 103,
     "metadata": {},
     "output_type": "execute_result"
    },
    {
     "data": {
      "image/png": "[encoded data removed]",
      "text/plain": [
       "<Figure size 432x288 with 1 Axes>"
      ]
     },
     "metadata": {
      "needs_background": "light"
     },
     "output_type": "display_data"
    }
   ],
   "source": [
    "df.groupby(df['Data startu półkursu'].dt.hour)['Weszło'].sum().plot()"
   ]
  },
  {
   "cell_type": "code",
   "execution_count": 118,
   "metadata": {},
   "outputs": [
    {
     "data": {
      "text/plain": [
       "<matplotlib.axes._subplots.AxesSubplot at 0x239f4fb9240>"
      ]
     },
     "execution_count": 118,
     "metadata": {},
     "output_type": "execute_result"
    },
    {
     "data": {
      "image/png": "[encoded data removed]",
      "text/plain": [
       "<Figure size 432x288 with 1 Axes>"
      ]
     },
     "metadata": {
      "needs_background": "light"
     },
     "output_type": "display_data"
    }
   ],
   "source": [
    "df[(df.Linia == 'S1') & (df['Półkurs']=='OTWOCK - PRUSZKÓW')].groupby(df['Data startu półkursu'].dt.hour)['Weszło'].sum().plot()\n",
    "df[(df.Linia == 'S1') & (df['Półkurs']=='PRUSZKÓW - OTWOCK')].groupby(df['Data startu półkursu'].dt.hour)['Weszło'].sum().plot()"
   ]
  },
  {
   "cell_type": "code",
   "execution_count": 121,
   "metadata": {},
   "outputs": [
    {
     "data": {
      "text/plain": [
       "<matplotlib.axes._subplots.AxesSubplot at 0x239f50fd8d0>"
      ]
     },
     "execution_count": 121,
     "metadata": {},
     "output_type": "execute_result"
    },
    {
     "data": {
      "image/png": "[encoded data removed]",
      "text/plain": [
       "<Figure size 432x288 with 1 Axes>"
      ]
     },
     "metadata": {
      "needs_background": "light"
     },
     "output_type": "display_data"
    }
   ],
   "source": [
    "df[df['Nazwa przystanku'] == 'WARSZAWA ŚRÓDMIEŚCIE'].groupby(df['Data startu półkursu'].dt.hour).sum()[['Weszło','Wyszło']].plot()"
   ]
  },
  {
   "cell_type": "code",
   "execution_count": null,
   "metadata": {},
   "outputs": [],
   "source": []
  }
 ],
 "metadata": {
  "kernelspec": {
   "display_name": "Python 3",
   "language": "python",
   "name": "python3"
  },
  "language_info": {
   "codemirror_mode": {
    "name": "ipython",
    "version": 3
   },
   "file_extension": ".py",
   "mimetype": "text/x-python",
   "name": "python",
   "nbconvert_exporter": "python",
   "pygments_lexer": "ipython3",
   "version": "3.7.1"
  }
 },
 "nbformat": 4,
 "nbformat_minor": 2
}
